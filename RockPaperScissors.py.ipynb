{
 "cells": [
  {
   "cell_type": "code",
   "execution_count": null,
   "id": "28d80d33",
   "metadata": {},
   "outputs": [
    {
     "name": "stdout",
     "output_type": "stream",
     "text": [
      "Welcome to Rock Paper Scissors!\n",
      "please choose:(Rock) (Paper) (Scissors):rock\n",
      "Computer chooses: Rock!\n",
      "You chose: Rock!\n",
      "It's a draw!\n",
      "Play again (Y/N):sissors\n",
      "Welcome to Rock Paper Scissors!\n",
      "please choose:(Rock) (Paper) (Scissors):sfdsdf\n",
      "Computer chooses: Rock!\n",
      "You chose: Sfdsdf!\n"
     ]
    }
   ],
   "source": [
    "import random\n",
    "\n",
    "play = True\n",
    "\n",
    "while play:\n",
    "    print(\"Welcome to Rock Paper Scissors!\")\n",
    "\n",
    "    weapon = input(\"please choose:(Rock) (Paper) (Scissors):\")\n",
    "    weapon = weapon.title()\n",
    "    comp_weapons = (\"Rock\",\"Paper\",\"Scissors\")\n",
    "    c_weapon = random.choice(comp_weapons)\n",
    "    #print(c_weapon)\n",
    "    #c_weapon = \"Rock\"\n",
    "\n",
    "    def whoWon(winner,looser):\n",
    "        print(f\"{winner} beats {looser}!\")\n",
    "\n",
    "    def selectWinner(c_weapon, weapon):\n",
    "        if (c_weapon == weapon):\n",
    "            print(\"It's a draw!\")\n",
    "        elif c_weapon == \"Rock\" and weapon == \"Paper\":\n",
    "            print(\"You Win!\")\n",
    "            whoWon(weapon,c_weapon)\n",
    "        elif c_weapon == \"Rock\" and weapon == \"Scissors\":\n",
    "            print(\"You loose :(\")\n",
    "            whoWon(c_weapon,weapon)\n",
    "        elif c_weapon == \"Paper\" and weapon == \"Rock\":\n",
    "            print(\"You win!\")\n",
    "            whoWon(weapon,c_weapon)\n",
    "        elif c_weapon == \"Paper\" and weapon == \"Scissors\":\n",
    "            print(\"You loose :(\")\n",
    "            whoWon(c_weapon,weapon)\n",
    "        elif c_weapon == \"Scissors\" and weapon == \"Rock\":\n",
    "            print(\"You win!\")\n",
    "            whoWon(weapon,c_weapon)\n",
    "        elif c_weapon == \"Scissors\" and weapon == \"Paper\":\n",
    "            print(\"You loose :(\")\n",
    "            whoWon(c_weapon,weapon)\n",
    "\n",
    "    print(f\"Computer chooses: {c_weapon}!\")\n",
    "    print(f\"You chose: {weapon}!\")\n",
    "\n",
    "    selectWinner(c_weapon,weapon)\n",
    "    again = input(\"Play again (Y/N):\")\n",
    "    if again == \"N\":\n",
    "        play = False\n",
    "\n",
    "\n",
    "\n",
    "\n",
    "\n"
   ]
  },
  {
   "cell_type": "code",
   "execution_count": null,
   "id": "16dd11b3",
   "metadata": {},
   "outputs": [],
   "source": []
  },
  {
   "cell_type": "code",
   "execution_count": null,
   "id": "9183b1b6",
   "metadata": {},
   "outputs": [],
   "source": []
  },
  {
   "cell_type": "code",
   "execution_count": null,
   "id": "d9ddf92e",
   "metadata": {},
   "outputs": [],
   "source": []
  }
 ],
 "metadata": {
  "kernelspec": {
   "display_name": "Python 3 (ipykernel)",
   "language": "python",
   "name": "python3"
  },
  "language_info": {
   "codemirror_mode": {
    "name": "ipython",
    "version": 3
   },
   "file_extension": ".py",
   "mimetype": "text/x-python",
   "name": "python",
   "nbconvert_exporter": "python",
   "pygments_lexer": "ipython3",
   "version": "3.11.5"
  }
 },
 "nbformat": 4,
 "nbformat_minor": 5
}
